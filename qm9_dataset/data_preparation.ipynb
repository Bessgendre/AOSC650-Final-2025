{
 "cells": [
  {
   "cell_type": "code",
   "execution_count": null,
   "id": "e16187bc",
   "metadata": {},
   "outputs": [
    {
     "name": "stderr",
     "output_type": "stream",
     "text": [
      "/Users/royalty/miniconda3/envs/torch/lib/python3.9/site-packages/torch/overrides.py:110: UserWarning: 'has_cuda' is deprecated, please use 'torch.backends.cuda.is_built()'\n",
      "  torch.has_cuda,\n",
      "/Users/royalty/miniconda3/envs/torch/lib/python3.9/site-packages/torch/overrides.py:111: UserWarning: 'has_cudnn' is deprecated, please use 'torch.backends.cudnn.is_available()'\n",
      "  torch.has_cudnn,\n",
      "/Users/royalty/miniconda3/envs/torch/lib/python3.9/site-packages/torch/overrides.py:117: UserWarning: 'has_mps' is deprecated, please use 'torch.backends.mps.is_built()'\n",
      "  torch.has_mps,\n",
      "/Users/royalty/miniconda3/envs/torch/lib/python3.9/site-packages/torch/overrides.py:118: UserWarning: 'has_mkldnn' is deprecated, please use 'torch.backends.mkldnn.is_available()'\n",
      "  torch.has_mkldnn,\n",
      "/Users/royalty/miniconda3/envs/torch/lib/python3.9/site-packages/torch/jit/_check.py:178: UserWarning: The TorchScript type system doesn't support instance-level annotations on empty non-base types in `__init__`. Instead, either 1) use a type annotation in the class body, or 2) wrap the type in `torch.jit.Attribute`.\n",
      "  warnings.warn(\n"
     ]
    }
   ],
   "source": [
    "import torch\n",
    "import pickle\n",
    "import os\n",
    "\n",
    "from module.molecule_dataset import DiagonalDataPreprocessor\n",
    "\n",
    "data_folder_path = './QM9_pyscf'\n",
    "\n",
    "raw_data = []\n",
    "for i in range(5000):\n",
    "    with open(os.path.join(data_folder_path, f'molecule_{i}.pkl'), 'rb') as f:\n",
    "        data = pickle.load(f)\n",
    "        raw_data.append(data)\n",
    "\n",
    "preprocessor = DiagonalDataPreprocessor(basis='sto-3g')"
   ]
  },
  {
   "cell_type": "code",
   "execution_count": 2,
   "id": "b7aa8680",
   "metadata": {},
   "outputs": [],
   "source": [
    "from tools.AtomAtom import AtomBlockDecomposer\n",
    "\n",
    "atom_basis_dict = {\n",
    "    \"hydrogen\": preprocessor.atom_basis_dict[\"H\"],\n",
    "    \"second_period\": preprocessor.atom_basis_dict[\"C\"]\n",
    "}\n",
    "\n",
    "hydrogen_decomposer = AtomBlockDecomposer(atom_basis_dict[\"hydrogen\"], atom_basis_dict[\"hydrogen\"])\n",
    "second_period_decomposer = AtomBlockDecomposer(atom_basis_dict[\"second_period\"], atom_basis_dict[\"second_period\"])\n",
    "\n",
    "hydrogen_mf_irreps_structure = hydrogen_decomposer.all_decomposed_irreps\n",
    "second_period_mf_irreps_structure = second_period_decomposer.all_decomposed_irreps\n",
    "\n",
    "hydrogen_mf_irreps = \"+\".join([\"+\".join(coupled_channel) for coupled_channel in hydrogen_mf_irreps_structure])\n",
    "second_period_mf_irreps = \"+\".join([\"+\".join(coupled_channel) for coupled_channel in second_period_mf_irreps_structure])"
   ]
  },
  {
   "cell_type": "code",
   "execution_count": 3,
   "id": "d43e8a7f",
   "metadata": {},
   "outputs": [],
   "source": [
    "def get_carbon_feature_and_label(original_data):\n",
    "    \n",
    "    data = original_data[\"second_period\"]\n",
    "    \n",
    "    target_one_hot = torch.tensor([0, 1, 0, 0, 0])\n",
    "    mask = torch.all(data['one_hot'] == target_one_hot, dim=1)\n",
    "    \n",
    "    filtered_sad_decomposed = data['sad_decomposed'][mask]\n",
    "    filtered_hf_dm_decomposed = data['hf_dm_decomposed'][mask]\n",
    "    \n",
    "    return {\n",
    "        \"feature\": filtered_sad_decomposed,\n",
    "        \"label\": filtered_hf_dm_decomposed,\n",
    "    }"
   ]
  },
  {
   "cell_type": "code",
   "execution_count": 7,
   "id": "1adb34ae",
   "metadata": {},
   "outputs": [],
   "source": [
    "from tqdm import tqdm\n",
    "\n",
    "def get_all_carbon_features_and_labels(raw_data):\n",
    "    all_features = []\n",
    "    all_labels = []\n",
    "    \n",
    "    for data in tqdm(raw_data):\n",
    "        carbon_data = get_carbon_feature_and_label(preprocessor.preprocess(data, cutoff=2.5))\n",
    "        all_features.append(carbon_data[\"feature\"])\n",
    "        all_labels.append(carbon_data[\"label\"])\n",
    "    \n",
    "    all_features = torch.cat(all_features, dim=0)\n",
    "    all_labels = torch.cat(all_labels, dim=0)\n",
    "    \n",
    "    return {\n",
    "        \"features\": all_features,\n",
    "        \"labels\": all_labels,\n",
    "    }"
   ]
  },
  {
   "cell_type": "code",
   "execution_count": 8,
   "id": "4a5adfb6",
   "metadata": {},
   "outputs": [
    {
     "name": "stderr",
     "output_type": "stream",
     "text": [
      "  0%|          | 16/5000 [00:00<01:02, 79.29it/s]/Users/royalty/miniconda3/envs/torch/lib/python3.9/site-packages/torch_geometric/data/storage.py:450: UserWarning: Unable to accurately infer 'num_nodes' from the attribute set 'set()'. Please explicitly set 'num_nodes' as an attribute of 'data[hydrogen]' to suppress this warning\n",
      "  warnings.warn(\n",
      "100%|██████████| 5000/5000 [01:19<00:00, 62.96it/s]\n"
     ]
    }
   ],
   "source": [
    "result = get_all_carbon_features_and_labels(raw_data)"
   ]
  },
  {
   "cell_type": "code",
   "execution_count": 9,
   "id": "c398c094",
   "metadata": {},
   "outputs": [],
   "source": [
    "with open('./dataset.pkl', 'wb') as f:\n",
    "    pickle.dump(result, f)"
   ]
  },
  {
   "cell_type": "code",
   "execution_count": null,
   "id": "dc5b6aca",
   "metadata": {},
   "outputs": [],
   "source": []
  },
  {
   "cell_type": "code",
   "execution_count": null,
   "id": "f2bec9ef",
   "metadata": {},
   "outputs": [
    {
     "data": {
      "text/plain": [
       "(torch.Size([23769, 25]), torch.Size([23769, 25]))"
      ]
     },
     "execution_count": 12,
     "metadata": {},
     "output_type": "execute_result"
    }
   ],
   "source": []
  }
 ],
 "metadata": {
  "kernelspec": {
   "display_name": "torch",
   "language": "python",
   "name": "python3"
  },
  "language_info": {
   "codemirror_mode": {
    "name": "ipython",
    "version": 3
   },
   "file_extension": ".py",
   "mimetype": "text/x-python",
   "name": "python",
   "nbconvert_exporter": "python",
   "pygments_lexer": "ipython3",
   "version": "3.9.21"
  }
 },
 "nbformat": 4,
 "nbformat_minor": 5
}
