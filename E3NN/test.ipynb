{
 "cells": [
  {
   "cell_type": "code",
   "execution_count": 1,
   "id": "318ae9ab",
   "metadata": {},
   "outputs": [],
   "source": [
    "import torch\n",
    "\n",
    "\n",
    "from e3nn import o3"
   ]
  },
  {
   "cell_type": "code",
   "execution_count": 2,
   "id": "7bf2a85a",
   "metadata": {},
   "outputs": [
    {
     "name": "stdout",
     "output_type": "stream",
     "text": [
      "torch.Size([23769, 25])\n"
     ]
    }
   ],
   "source": [
    "import pickle\n",
    "\n",
    "with open(\"./dataset.pkl\", \"rb\") as f:\n",
    "    dataset = pickle.load(f)\n",
    "    \n",
    "print(dataset[\"features\"].shape)"
   ]
  },
  {
   "cell_type": "code",
   "execution_count": 3,
   "id": "b7542135",
   "metadata": {},
   "outputs": [
    {
     "name": "stdout",
     "output_type": "stream",
     "text": [
      "Features shape: torch.Size([23769, 25])\n",
      "Labels shape: torch.Size([23769, 25])\n",
      "Training data shape: torch.Size([8000, 25])\n"
     ]
    }
   ],
   "source": [
    "from sklearn.model_selection import train_test_split\n",
    "import numpy as np\n",
    "\n",
    "def prepare_dataset(loaded_data):\n",
    "    \"\"\"\n",
    "    Prepare the dataset for training and testing.\n",
    "    \n",
    "    Parameters:\n",
    "    -----------\n",
    "    loaded_data : dict\n",
    "        Dictionary containing features and labels\n",
    "    \n",
    "    Returns:\n",
    "    --------\n",
    "    tuple\n",
    "        Tuple containing training and testing data\n",
    "    \"\"\"\n",
    "    all_features = loaded_data[\"features\"]\n",
    "    all_labels = loaded_data[\"labels\"]\n",
    "    \n",
    "    print(f\"Features shape: {all_features.shape}\")\n",
    "    print(f\"Labels shape: {all_labels.shape}\")\n",
    "    \n",
    "    np.random.seed(666)\n",
    "    \n",
    "    sample_size = 10000\n",
    "    indices = np.random.choice(len(all_features), sample_size, replace=False)\n",
    "    sampled_features = all_features[indices]\n",
    "    sampled_labels = all_labels[indices]\n",
    "\n",
    "    x_train, x_test, y_train, y_test = train_test_split(\n",
    "        sampled_features, sampled_labels, test_size=0.2, random_state=666)\n",
    "\n",
    "    return x_train, y_train, x_test, y_test\n",
    "\n",
    "x_train, y_train, x_test, y_test = prepare_dataset(dataset)\n",
    "print(f\"Training data shape: {x_train.shape}\")"
   ]
  },
  {
   "cell_type": "code",
   "execution_count": 4,
   "id": "3b943a48",
   "metadata": {},
   "outputs": [],
   "source": [
    "from torch.utils.data import Dataset, DataLoader\n",
    "\n",
    "class CustomDataset(Dataset):\n",
    "    def __init__(self, features, labels):\n",
    "        self.features = features\n",
    "        self.labels = labels\n",
    "\n",
    "    def __len__(self):\n",
    "        return len(self.features)\n",
    "\n",
    "    def __getitem__(self, idx):\n",
    "        return self.features[idx], self.labels[idx]\n",
    "\n",
    "train_dataset = CustomDataset(x_train, y_train)\n",
    "test_dataset = CustomDataset(x_test, y_test)\n",
    "train_loader = DataLoader(train_dataset, batch_size=64, shuffle=True)\n",
    "test_loader = DataLoader(test_dataset, batch_size=64, shuffle=False)"
   ]
  },
  {
   "cell_type": "code",
   "execution_count": 5,
   "id": "69729ba2",
   "metadata": {},
   "outputs": [
    {
     "name": "stderr",
     "output_type": "stream",
     "text": [
      "/Users/royalty/miniconda3/envs/torch/lib/python3.9/site-packages/torch/overrides.py:110: UserWarning: 'has_cuda' is deprecated, please use 'torch.backends.cuda.is_built()'\n",
      "  torch.has_cuda,\n",
      "/Users/royalty/miniconda3/envs/torch/lib/python3.9/site-packages/torch/overrides.py:111: UserWarning: 'has_cudnn' is deprecated, please use 'torch.backends.cudnn.is_available()'\n",
      "  torch.has_cudnn,\n",
      "/Users/royalty/miniconda3/envs/torch/lib/python3.9/site-packages/torch/overrides.py:117: UserWarning: 'has_mps' is deprecated, please use 'torch.backends.mps.is_built()'\n",
      "  torch.has_mps,\n",
      "/Users/royalty/miniconda3/envs/torch/lib/python3.9/site-packages/torch/overrides.py:118: UserWarning: 'has_mkldnn' is deprecated, please use 'torch.backends.mkldnn.is_available()'\n",
      "  torch.has_mkldnn,\n",
      "/Users/royalty/miniconda3/envs/torch/lib/python3.9/site-packages/torch/jit/_check.py:178: UserWarning: The TorchScript type system doesn't support instance-level annotations on empty non-base types in `__init__`. Instead, either 1) use a type annotation in the class body, or 2) wrap the type in `torch.jit.Attribute`.\n",
      "  warnings.warn(\n"
     ]
    }
   ],
   "source": [
    "from tools.AtomAtom import AtomBlockReconstructor\n",
    "from e3nn import o3\n",
    "\n",
    "carbon_reconstructor = AtomBlockReconstructor(\"2x0e+1x1o\", \"2x0e+1x1o\")\n",
    "irreps_structure = carbon_reconstructor.all_decomposed_irreps\n",
    "irreps = o3.Irreps(\"+\".join([\"+\".join(sublist) for sublist in irreps_structure]))\n",
    "\n",
    "irreps_in = irreps\n",
    "irreps_hidden = irreps_in * 2\n",
    "irreps_out = irreps"
   ]
  },
  {
   "cell_type": "code",
   "execution_count": 6,
   "id": "1193540e",
   "metadata": {},
   "outputs": [],
   "source": [
    "from e3nn_model import EquivariantModel\n",
    "\n",
    "test_model = EquivariantModel(irreps_in, irreps_hidden, irreps_out)"
   ]
  },
  {
   "cell_type": "code",
   "execution_count": 7,
   "id": "628debff",
   "metadata": {},
   "outputs": [
    {
     "name": "stdout",
     "output_type": "stream",
     "text": [
      "Total number of weights in test_model: 6434\n"
     ]
    }
   ],
   "source": [
    "total_weights = sum(p.numel() for p in test_model.parameters())\n",
    "print(f\"Total number of weights in test_model: {total_weights}\")"
   ]
  },
  {
   "cell_type": "code",
   "execution_count": 10,
   "id": "24504235",
   "metadata": {},
   "outputs": [],
   "source": [
    "import time\n",
    "import datetime\n",
    "from torch.utils.tensorboard import SummaryWriter\n",
    "import torch\n",
    "import torch.nn as nn\n",
    "import torch.optim as optim\n",
    "from torch.optim.lr_scheduler import StepLR, ReduceLROnPlateau\n",
    "import os\n",
    "\n",
    "# Generate timestamp for folder naming\n",
    "timestamp = datetime.datetime.now().strftime('%Y%m%d_%H%M%S')\n",
    "save_dir = f\"run_{timestamp}\"\n",
    "model_dir = os.path.join(save_dir, \"models\")\n",
    "log_dir = os.path.join(save_dir, \"logs\")\n",
    "\n",
    "# Create directories\n",
    "os.makedirs(model_dir, exist_ok=True)\n",
    "os.makedirs(log_dir, exist_ok=True)\n",
    "\n",
    "# Define loss function and optimizer\n",
    "criterion = nn.MSELoss()\n",
    "optimizer = optim.Adam(test_model.parameters(), lr=0.001)\n",
    "\n",
    "# Learning rate scheduler options:\n",
    "# Step decay - reduces lr by gamma every step_size epochs\n",
    "scheduler_step = StepLR(optimizer, step_size=20, gamma=0.5)  # Halves the learning rate every 20 epochs\n",
    "\n",
    "# Reduce on plateau - reduces lr when validation loss plateaus\n",
    "scheduler_plateau = ReduceLROnPlateau(\n",
    "    optimizer, \n",
    "    mode='min',           # Reduce LR when monitored quantity stops decreasing\n",
    "    factor=0.5,           # Multiply lr by this factor\n",
    "    patience=5,           # Number of epochs with no improvement after which LR will be reduced\n",
    "    verbose=True,         # Print message when LR is reduced\n",
    "    min_lr=1e-6           # Lower bound on the learning rate\n",
    ")\n",
    "\n",
    "# Choose which scheduler to use (you can use both if you want)\n",
    "use_step_scheduler = True\n",
    "use_plateau_scheduler = True\n",
    "\n",
    "# Initialize TensorBoard writer with timestamped log directory\n",
    "writer = SummaryWriter(log_dir=log_dir)\n",
    "\n",
    "# Variables for tracking the best model\n",
    "best_val_loss = float('inf')\n",
    "best_epoch = 0\n",
    "\n",
    "# Training and validation loop\n",
    "num_epochs = 100\n",
    "start_time = time.time()  # Record start time\n",
    "\n",
    "# for epoch in range(num_epochs):\n",
    "#     epoch_start_time = time.time()  # Record epoch start time\n",
    "    \n",
    "#     # Training loop\n",
    "#     test_model.train()\n",
    "#     train_loss = 0.0\n",
    "#     for features, labels in train_loader:\n",
    "#         optimizer.zero_grad()\n",
    "#         outputs = test_model(features)\n",
    "#         loss = criterion(outputs, labels)\n",
    "#         loss.backward()\n",
    "#         optimizer.step()\n",
    "#         train_loss += loss.item()\n",
    "    \n",
    "#     train_loss /= len(train_loader)\n",
    "#     writer.add_scalar(\"Loss/Train\", train_loss, epoch)\n",
    "\n",
    "#     # Validation loop\n",
    "#     test_model.eval()\n",
    "#     val_loss = 0.0\n",
    "#     with torch.no_grad():\n",
    "#         for features, labels in test_loader:\n",
    "#             outputs = test_model(features)\n",
    "#             loss = criterion(outputs, labels)\n",
    "#             val_loss += loss.item()\n",
    "    \n",
    "#     val_loss /= len(test_loader)\n",
    "#     writer.add_scalar(\"Loss/Validation\", val_loss, epoch)\n",
    "    \n",
    "#     # Get current learning rate\n",
    "#     current_lr = optimizer.param_groups[0]['lr']\n",
    "#     writer.add_scalar(\"Learning_Rate\", current_lr, epoch)\n",
    "    \n",
    "#     # Update learning rate\n",
    "#     if use_step_scheduler:\n",
    "#         scheduler_step.step()\n",
    "#     if use_plateau_scheduler:\n",
    "#         scheduler_plateau.step(val_loss)\n",
    "    \n",
    "#     # Calculate epoch time\n",
    "#     epoch_time = time.time() - epoch_start_time\n",
    "#     writer.add_scalar(\"Time/Epoch\", epoch_time, epoch)\n",
    "    \n",
    "#     # Save the best model\n",
    "#     if val_loss < best_val_loss:\n",
    "#         best_val_loss = val_loss\n",
    "#         best_epoch = epoch + 1\n",
    "#         torch.save({\n",
    "#             'epoch': epoch + 1,\n",
    "#             'model_state_dict': test_model.state_dict(),\n",
    "#             'optimizer_state_dict': optimizer.state_dict(),\n",
    "#             'scheduler_step_state_dict': scheduler_step.state_dict() if use_step_scheduler else None,\n",
    "#             'scheduler_plateau_state_dict': scheduler_plateau.state_dict() if use_plateau_scheduler else None,\n",
    "#             'train_loss': train_loss,\n",
    "#             'val_loss': val_loss,\n",
    "#             'learning_rate': current_lr,\n",
    "#         }, os.path.join(model_dir, 'best_model.pth'))\n",
    "#         print(f\"Epoch {epoch+1}/{num_epochs}, Train Loss: {train_loss:.4f}, Val Loss: {val_loss:.4f}, LR: {current_lr:.6f}, Time: {epoch_time:.2f}s (New Best Model)\")\n",
    "#     else:\n",
    "#         print(f\"Epoch {epoch+1}/{num_epochs}, Train Loss: {train_loss:.4f}, Val Loss: {val_loss:.4f}, LR: {current_lr:.6f}, Time: {epoch_time:.2f}s\")\n",
    "    \n",
    "#     # Save a checkpoint every 10 epochs\n",
    "#     if (epoch + 1) % 10 == 0:\n",
    "#         torch.save({\n",
    "#             'epoch': epoch + 1,\n",
    "#             'model_state_dict': test_model.state_dict(),\n",
    "#             'optimizer_state_dict': optimizer.state_dict(),\n",
    "#             'scheduler_step_state_dict': scheduler_step.state_dict() if use_step_scheduler else None,\n",
    "#             'scheduler_plateau_state_dict': scheduler_plateau.state_dict() if use_plateau_scheduler else None,\n",
    "#             'train_loss': train_loss,\n",
    "#             'val_loss': val_loss,\n",
    "#             'learning_rate': current_lr,\n",
    "#         }, os.path.join(model_dir, f'checkpoint_epoch_{epoch+1}.pth'))\n",
    "\n",
    "# # Calculate total training time\n",
    "# total_time = time.time() - start_time\n",
    "# print(f\"Training completed in {total_time:.2f} seconds ({total_time/60:.2f} minutes)\")\n",
    "# print(f\"Best model saved at epoch {best_epoch} with validation loss: {best_val_loss:.4f}\")\n",
    "# print(f\"All files saved in directory: {save_dir}\")\n",
    "\n",
    "# # Add final metrics to TensorBoard\n",
    "# writer.add_scalar(\"Best/Epoch\", best_epoch, 0)\n",
    "# writer.add_scalar(\"Best/ValidationLoss\", best_val_loss, 0)\n",
    "# writer.add_scalar(\"Time/Total\", total_time, 0)\n",
    "\n",
    "# # Close the TensorBoard writer\n",
    "# writer.close()"
   ]
  },
  {
   "cell_type": "code",
   "execution_count": 13,
   "id": "aed90468",
   "metadata": {},
   "outputs": [],
   "source": [
    "# Example of how to load the best model and resume training\n",
    "def load_checkpoint(model, optimizer, model_path):\n",
    "    checkpoint = torch.load(model_path, map_location=torch.device('cpu'))\n",
    "    model.load_state_dict(checkpoint['model_state_dict'])\n",
    "    optimizer.load_state_dict(checkpoint['optimizer_state_dict'])\n",
    "    \n",
    "    # Initialize schedulers\n",
    "    scheduler_step = StepLR(optimizer, step_size=20, gamma=0.5)\n",
    "    scheduler_plateau = ReduceLROnPlateau(optimizer, mode='min', factor=0.5, patience=5, verbose=True, min_lr=1e-6)\n",
    "    \n",
    "    # Load scheduler states if they exist\n",
    "    if checkpoint['scheduler_step_state_dict'] is not None:\n",
    "        scheduler_step.load_state_dict(checkpoint['scheduler_step_state_dict'])\n",
    "    if checkpoint['scheduler_plateau_state_dict'] is not None:\n",
    "        scheduler_plateau.load_state_dict(checkpoint['scheduler_plateau_state_dict'])\n",
    "    \n",
    "    start_epoch = checkpoint['epoch']\n",
    "    train_loss = checkpoint['train_loss']\n",
    "    val_loss = checkpoint['val_loss']\n",
    "    \n",
    "    # return model, optimizer, scheduler_step, scheduler_plateau, start_epoch, train_loss, val_loss\n",
    "    \n",
    "    return model\n",
    "\n",
    "trained_model = load_checkpoint(test_model, optimizer, \"/Users/royalty/Desktop/UMD-HOMEWORK/AOSC650/E3NN/tf-logs_gpu/run_20250508_041225/models/best_model.pth\")"
   ]
  },
  {
   "cell_type": "code",
   "execution_count": 17,
   "id": "a4e4554e",
   "metadata": {},
   "outputs": [],
   "source": [
    "trained_model.eval()\n",
    "\n",
    "prediction = trained_model(x_test)"
   ]
  },
  {
   "cell_type": "code",
   "execution_count": 23,
   "id": "3716be4e",
   "metadata": {},
   "outputs": [
    {
     "name": "stderr",
     "output_type": "stream",
     "text": [
      "/Users/royalty/miniconda3/envs/torch/lib/python3.9/site-packages/torch/jit/_check.py:178: UserWarning: The TorchScript type system doesn't support instance-level annotations on empty non-base types in `__init__`. Instead, either 1) use a type annotation in the class body, or 2) wrap the type in `torch.jit.Attribute`.\n",
      "  warnings.warn(\n"
     ]
    },
    {
     "name": "stdout",
     "output_type": "stream",
     "text": [
      "tensor([[-0.0008, -0.0062,  0.0031, -0.0019,  0.0004],\n",
      "        [-0.0099,  0.0202, -0.0252,  0.0145,  0.0085],\n",
      "        [ 0.0032, -0.0248, -0.0011, -0.0042, -0.0030],\n",
      "        [-0.0021,  0.0143, -0.0042,  0.0206, -0.0074],\n",
      "        [ 0.0004,  0.0081, -0.0030, -0.0074, -0.0153]], grad_fn=<SubBackward0>)\n"
     ]
    }
   ],
   "source": [
    "from tools.AtomAtom import AtomBlockDecomposer, AtomBlockReconstructor\n",
    "\n",
    "carbon_reconstructor = AtomBlockReconstructor(\"2x0e+1x1o\", \"2x0e+1x1o\")\n",
    "\n",
    "irreps_structure = carbon_reconstructor.all_decomposed_irreps\n",
    "\n",
    "lab_recons_input = {\n",
    "    \"parameters_array\": y_test[1],\n",
    "    \"parameter_irrep_structure\": irreps_structure,\n",
    "}\n",
    "\n",
    "\n",
    "pre_recons_input = {\n",
    "    \"parameters_array\": prediction[1],\n",
    "    \"parameter_irrep_structure\": irreps_structure,\n",
    "}\n",
    "\n",
    "diff = carbon_reconstructor.reconstruct_atom_block(lab_recons_input) - carbon_reconstructor.reconstruct_atom_block(pre_recons_input)\n",
    "\n",
    "print(diff)"
   ]
  },
  {
   "cell_type": "code",
   "execution_count": 27,
   "id": "fcad85f0",
   "metadata": {},
   "outputs": [
    {
     "data": {
      "image/png": "[encoded data removed]",
      "text/plain": [
       "<Figure size 640x480 with 2 Axes>"
      ]
     },
     "metadata": {},
     "output_type": "display_data"
    }
   ],
   "source": [
    "import matplotlib.pyplot as plt\n",
    "\n",
    "plt.imshow(diff.detach().numpy(), cmap='Blues', interpolation='none')\n",
    "plt.colorbar()\n",
    "plt.title(\"E3NN Label-Prediction Difference\") \n",
    "plt.show()"
   ]
  }
 ],
 "metadata": {
  "kernelspec": {
   "display_name": "torch",
   "language": "python",
   "name": "python3"
  },
  "language_info": {
   "codemirror_mode": {
    "name": "ipython",
    "version": 3
   },
   "file_extension": ".py",
   "mimetype": "text/x-python",
   "name": "python",
   "nbconvert_exporter": "python",
   "pygments_lexer": "ipython3",
   "version": "3.9.21"
  }
 },
 "nbformat": 4,
 "nbformat_minor": 5
}
