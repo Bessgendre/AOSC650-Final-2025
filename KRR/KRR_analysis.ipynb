{
 "cells": [
  {
   "cell_type": "code",
   "execution_count": 1,
   "id": "0c109788",
   "metadata": {},
   "outputs": [],
   "source": [
    "import pickle"
   ]
  },
  {
   "cell_type": "code",
   "execution_count": 2,
   "id": "0a41136a",
   "metadata": {},
   "outputs": [
    {
     "name": "stderr",
     "output_type": "stream",
     "text": [
      "/Users/royalty/miniconda3/envs/torch/lib/python3.9/site-packages/sklearn/base.py:329: UserWarning: Trying to unpickle estimator KernelRidge from version 1.6.1 when using version 1.1.3. This might lead to breaking code or invalid results. Use at your own risk. For more info please refer to:\n",
      "https://scikit-learn.org/stable/model_persistence.html#security-maintainability-limitations\n",
      "  warnings.warn(\n",
      "/Users/royalty/miniconda3/envs/torch/lib/python3.9/site-packages/sklearn/base.py:329: UserWarning: Trying to unpickle estimator MultiOutputRegressor from version 1.6.1 when using version 1.1.3. This might lead to breaking code or invalid results. Use at your own risk. For more info please refer to:\n",
      "https://scikit-learn.org/stable/model_persistence.html#security-maintainability-limitations\n",
      "  warnings.warn(\n"
     ]
    }
   ],
   "source": [
    "with open(\"../qm9_dataset/dataset.pkl\", \"rb\") as f:\n",
    "    dataset = pickle.load(f)\n",
    "    \n",
    "with open(\"best_krr_model.pkl\", \"rb\") as f:\n",
    "    model = pickle.load(f)"
   ]
  },
  {
   "cell_type": "code",
   "execution_count": 3,
   "id": "7e8d8643",
   "metadata": {},
   "outputs": [
    {
     "name": "stdout",
     "output_type": "stream",
     "text": [
      "Features shape: torch.Size([23769, 25])\n",
      "Labels shape: torch.Size([23769, 25])\n",
      "Training data shapes: x=(8000, 25), y=(8000, 25)\n",
      "Testing data shapes: x=(2000, 25), y=(2000, 25)\n"
     ]
    }
   ],
   "source": [
    "import torch\n",
    "from sklearn.model_selection import train_test_split\n",
    "import numpy as np\n",
    "\n",
    "def prepare_dataset(loaded_data):\n",
    "    \"\"\"\n",
    "    Prepare the dataset for training and testing.\n",
    "    \n",
    "    Parameters:\n",
    "    -----------\n",
    "    loaded_data : dict\n",
    "        Dictionary containing features and labels\n",
    "    \n",
    "    Returns:\n",
    "    --------\n",
    "    tuple\n",
    "        Tuple containing training and testing data\n",
    "    \"\"\"\n",
    "    all_features = loaded_data[\"features\"]\n",
    "    all_labels = loaded_data[\"labels\"]\n",
    "    \n",
    "    print(f\"Features shape: {all_features.shape}\")\n",
    "    print(f\"Labels shape: {all_labels.shape}\")\n",
    "    \n",
    "    np.random.seed(666)\n",
    "    \n",
    "    sample_size = 10000\n",
    "    indices = np.random.choice(len(all_features), sample_size, replace=False)\n",
    "    sampled_features = all_features[indices]\n",
    "    sampled_labels = all_labels[indices]\n",
    "\n",
    "    x_train, x_test, y_train, y_test = train_test_split(\n",
    "        sampled_features, sampled_labels, test_size=0.2, random_state=666)\n",
    "\n",
    "    # Convert PyTorch tensors to NumPy arrays for scikit-learn\n",
    "    x_train_np = x_train.cpu().numpy()\n",
    "    y_train_np = y_train.cpu().numpy()\n",
    "    x_test_np = x_test.cpu().numpy()\n",
    "    y_test_np = y_test.cpu().numpy()\n",
    "\n",
    "    # Print data shapes for confirmation\n",
    "    print(f\"Training data shapes: x={x_train_np.shape}, y={y_train_np.shape}\")\n",
    "    print(f\"Testing data shapes: x={x_test_np.shape}, y={y_test_np.shape}\")\n",
    "    \n",
    "    return x_train_np, y_train_np, x_test_np, y_test_np\n",
    "\n",
    "x_train, y_train, x_test, y_test = prepare_dataset(dataset)"
   ]
  },
  {
   "cell_type": "code",
   "execution_count": 4,
   "id": "87749e33",
   "metadata": {},
   "outputs": [],
   "source": [
    "prediction = model.predict(x_test)"
   ]
  },
  {
   "cell_type": "code",
   "execution_count": 5,
   "id": "5ed305dd",
   "metadata": {},
   "outputs": [
    {
     "name": "stderr",
     "output_type": "stream",
     "text": [
      "/Users/royalty/miniconda3/envs/torch/lib/python3.9/site-packages/torch/overrides.py:110: UserWarning: 'has_cuda' is deprecated, please use 'torch.backends.cuda.is_built()'\n",
      "  torch.has_cuda,\n",
      "/Users/royalty/miniconda3/envs/torch/lib/python3.9/site-packages/torch/overrides.py:111: UserWarning: 'has_cudnn' is deprecated, please use 'torch.backends.cudnn.is_available()'\n",
      "  torch.has_cudnn,\n",
      "/Users/royalty/miniconda3/envs/torch/lib/python3.9/site-packages/torch/overrides.py:117: UserWarning: 'has_mps' is deprecated, please use 'torch.backends.mps.is_built()'\n",
      "  torch.has_mps,\n",
      "/Users/royalty/miniconda3/envs/torch/lib/python3.9/site-packages/torch/overrides.py:118: UserWarning: 'has_mkldnn' is deprecated, please use 'torch.backends.mkldnn.is_available()'\n",
      "  torch.has_mkldnn,\n",
      "/Users/royalty/miniconda3/envs/torch/lib/python3.9/site-packages/torch/jit/_check.py:178: UserWarning: The TorchScript type system doesn't support instance-level annotations on empty non-base types in `__init__`. Instead, either 1) use a type annotation in the class body, or 2) wrap the type in `torch.jit.Attribute`.\n",
      "  warnings.warn(\n"
     ]
    },
    {
     "name": "stdout",
     "output_type": "stream",
     "text": [
      "tensor([[ 0.0007, -0.0063,  0.0042, -0.0045, -0.0008],\n",
      "        [-0.0063,  0.0271, -0.0324,  0.0239,  0.0099],\n",
      "        [ 0.0042, -0.0324,  0.0017,  0.0126, -0.0266],\n",
      "        [-0.0045,  0.0239,  0.0126,  0.0296, -0.0139],\n",
      "        [-0.0008,  0.0099, -0.0266, -0.0139, -0.0441]])\n"
     ]
    }
   ],
   "source": [
    "from tools.AtomAtom import AtomBlockDecomposer, AtomBlockReconstructor\n",
    "\n",
    "carbon_reconstructor = AtomBlockReconstructor(\"2x0e+1x1o\", \"2x0e+1x1o\")\n",
    "\n",
    "irreps_structure = carbon_reconstructor.all_decomposed_irreps\n",
    "\n",
    "lab_recons_input = {\n",
    "    \"parameters_array\": torch.tensor(y_test[1]),\n",
    "    \"parameter_irrep_structure\": irreps_structure,\n",
    "}\n",
    "\n",
    "\n",
    "pre_recons_input = {\n",
    "    \"parameters_array\": torch.tensor(prediction[1]),\n",
    "    \"parameter_irrep_structure\": irreps_structure,\n",
    "}\n",
    "\n",
    "diff = carbon_reconstructor.reconstruct_atom_block(lab_recons_input) - carbon_reconstructor.reconstruct_atom_block(pre_recons_input)\n",
    "\n",
    "print(diff)"
   ]
  },
  {
   "cell_type": "code",
   "execution_count": 7,
   "id": "ce30f686",
   "metadata": {},
   "outputs": [
    {
     "data": {
      "image/png": "[encoded data removed]",
      "text/plain": [
       "<Figure size 640x480 with 2 Axes>"
      ]
     },
     "metadata": {},
     "output_type": "display_data"
    }
   ],
   "source": [
    "import matplotlib.pyplot as plt\n",
    "\n",
    "plt.imshow(diff, cmap='Blues', interpolation='none')\n",
    "plt.colorbar()\n",
    "plt.title(\"KRR Label-Prediction performace\")\n",
    "plt.show()"
   ]
  }
 ],
 "metadata": {
  "kernelspec": {
   "display_name": "torch",
   "language": "python",
   "name": "python3"
  },
  "language_info": {
   "codemirror_mode": {
    "name": "ipython",
    "version": 3
   },
   "file_extension": ".py",
   "mimetype": "text/x-python",
   "name": "python",
   "nbconvert_exporter": "python",
   "pygments_lexer": "ipython3",
   "version": "3.9.21"
  }
 },
 "nbformat": 4,
 "nbformat_minor": 5
}
